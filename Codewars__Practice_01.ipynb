{
  "nbformat": 4,
  "nbformat_minor": 0,
  "metadata": {
    "colab": {
      "provenance": [],
      "authorship_tag": "ABX9TyOecyp4PafEsCnTvpyM1PcR",
      "include_colab_link": true
    },
    "kernelspec": {
      "name": "python3",
      "display_name": "Python 3"
    },
    "language_info": {
      "name": "python"
    }
  },
  "cells": [
    {
      "cell_type": "markdown",
      "metadata": {
        "id": "view-in-github",
        "colab_type": "text"
      },
      "source": [
        "<a href=\"https://colab.research.google.com/github/Nikhil09052007/Google-_-Collab_/blob/main/Codewars__Practice_01.ipynb\" target=\"_parent\"><img src=\"https://colab.research.google.com/assets/colab-badge.svg\" alt=\"Open In Colab\"/></a>"
      ]
    },
    {
      "cell_type": "code",
      "execution_count": null,
      "metadata": {
        "id": "QvnGT6Yk7qe-"
      },
      "outputs": [],
      "source": [
        "def string_to_array(s):\n",
        "    # your code here\n",
        "\n",
        "    return s.split() if s else ['']\n"
      ]
    },
    {
      "cell_type": "markdown",
      "source": [
        "How it works:\n",
        "if s → checks if the string is not empty.\n",
        "\n",
        "If not empty → use .split() as normal.\n",
        "\n",
        "If empty → return [''] directly.\n",
        "\n",
        "This should make that one failing test pass.\n",
        "Do you want me to also explain why the test wants [''] instead of []? That’s a small but important distinction in string splitting behavior."
      ],
      "metadata": {
        "id": "HSDh5BAm74hx"
      }
    },
    {
      "cell_type": "markdown",
      "source": [],
      "metadata": {
        "id": "hDGrPoUG7-ov"
      }
    },
    {
      "cell_type": "code",
      "source": [],
      "metadata": {
        "id": "GBaYCEjJ8Aim"
      },
      "execution_count": null,
      "outputs": []
    }
  ]
}